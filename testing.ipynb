{
 "cells": [
  {
   "cell_type": "code",
   "execution_count": 2,
   "metadata": {},
   "outputs": [],
   "source": [
    "import cv2\n",
    "import os\n",
    "import numpy as np\n",
    "from keras.preprocessing import image\n",
    "from keras.models import load_model\n",
    "from keras.preprocessing.image import ImageDataGenerator\n",
    "from keras.models import Sequential\n",
    "from keras.layers import Convolution2D, MaxPool2D, Flatten, Dense\n",
    "from keras.preprocessing.image import ImageDataGenerator"
   ]
  },
  {
   "cell_type": "code",
   "execution_count": 53,
   "metadata": {},
   "outputs": [],
   "source": [
    "from keras.preprocessing import image"
   ]
  },
  {
   "cell_type": "code",
   "execution_count": 20,
   "metadata": {},
   "outputs": [],
   "source": [
    "import os\n",
    "import cv2\n",
    "\n",
    "def gen_dataset(enrolment):\n",
    "    # Create a folder with the enrolment name if it doesn't exist\n",
    "    student_folder = os.path.join(\"Students\", enrolment)\n",
    "    if not os.path.exists(student_folder):\n",
    "        os.makedirs(student_folder)\n",
    "    else:\n",
    "        # Remove existing files in the folder if it already exists\n",
    "        existing_files = os.listdir(student_folder)\n",
    "        for existing_file in existing_files:\n",
    "            file_path = os.path.join(student_folder, existing_file)\n",
    "            os.remove(file_path)\n",
    "\n",
    "    face_classifier = cv2.CascadeClassifier(cv2.data.haarcascades + 'haarcascade_frontalface_default.xml')\n",
    "\n",
    "    def face_cropped(img):\n",
    "        gray = cv2.cvtColor(img, cv2.COLOR_BGR2GRAY)\n",
    "        faces = face_classifier.detectMultiScale(gray, 1.2, 5)\n",
    "        cropped_faces = []\n",
    "        for (x, y, w, h) in faces:\n",
    "            cropped_face = img[y: y+h, x:x+w]\n",
    "            cropped_faces.append(cropped_face)\n",
    "        return cropped_faces\n",
    "    \n",
    "    cap = cv2.VideoCapture(0)  # Change the camera index if needed\n",
    "    img_id = 0\n",
    "\n",
    "    while True:\n",
    "        ret, frame = cap.read()\n",
    "        faces = face_cropped(frame)\n",
    "        for face in faces:\n",
    "            img_id += 1\n",
    "            face = cv2.resize(face, (200, 200))\n",
    "            face = cv2.cvtColor(face, cv2.COLOR_BGR2GRAY)\n",
    "            file_path = os.path.join(student_folder, f\"{enrolment}.{img_id}.jpg\")\n",
    "            # cv2.putText(face, str(img_id), (40, 40), cv2.FONT_HERSHEY_PLAIN, 1, (0, 255, 0), 2)\n",
    "            cv2.imshow(\"Cropped_Face\", face)\n",
    "            cv2.imwrite(file_path, face)\n",
    "\n",
    "        if cv2.waitKey(1) == 15 or int(img_id) == 500:\n",
    "            break\n",
    "\n",
    "    cap.release()\n",
    "    cv2.destroyAllWindows()\n",
    "    print(\"Dataset Creation Completed\")\n"
   ]
  },
  {
   "cell_type": "markdown",
   "metadata": {},
   "source": []
  },
  {
   "cell_type": "code",
   "execution_count": 83,
   "metadata": {},
   "outputs": [
    {
     "name": "stdout",
     "output_type": "stream",
     "text": [
      "Dataset Creation Completed\n"
     ]
    }
   ],
   "source": [
    "gen_dataset(\"E21CSEU0130\")"
   ]
  },
  {
   "cell_type": "code",
   "execution_count": 74,
   "metadata": {},
   "outputs": [
    {
     "name": "stdout",
     "output_type": "stream",
     "text": [
      "Found 900 images belonging to 3 classes.\n"
     ]
    },
    {
     "name": "stdout",
     "output_type": "stream",
     "text": [
      "Found 900 images belonging to 3 classes.\n"
     ]
    },
    {
     "data": {
      "text/plain": [
       "{'E21CSEU0106': 0, 'E21CSEU0130': 1, 'E21CSEU0143': 2}"
      ]
     },
     "execution_count": 74,
     "metadata": {},
     "output_type": "execute_result"
    }
   ],
   "source": [
    "\n",
    "# Specifying the folder where images are present\n",
    "TrainingImagePath='Students'\n",
    " \n",
    "\n",
    "# Understand more about ImageDataGenerator at below link\n",
    "# https://blog.keras.io/building-powerful-image-classification-models-using-very-little-data.html\n",
    " \n",
    "# Defining pre-processing transformations on raw images of training data\n",
    "# These hyper parameters helps to generate slightly twisted versions\n",
    "# of the original image, which leads to a better model, since it learns\n",
    "# on the good and bad mix of images\n",
    "train_datagen = ImageDataGenerator(\n",
    "        shear_range=0.1,\n",
    "        zoom_range=0.1,\n",
    "        horizontal_flip=True)\n",
    " \n",
    "# Defining pre-processing transformations on raw images of testing data\n",
    "# No transformations are done on the testing images\n",
    "test_datagen = ImageDataGenerator()\n",
    " \n",
    "# Generating the Training Data\n",
    "training_set = train_datagen.flow_from_directory(\n",
    "        TrainingImagePath,\n",
    "        target_size=(64, 64),\n",
    "        batch_size=32,\n",
    "        class_mode='categorical')\n",
    " \n",
    " \n",
    "# Generating the Testing Data\n",
    "test_set = test_datagen.flow_from_directory(\n",
    "        TrainingImagePath,\n",
    "        target_size=(64, 64),\n",
    "        batch_size=32,\n",
    "        class_mode='categorical')\n",
    " \n",
    "# Printing class labels for each face\n",
    "test_set.class_indices"
   ]
  },
  {
   "cell_type": "code",
   "execution_count": 75,
   "metadata": {},
   "outputs": [
    {
     "name": "stdout",
     "output_type": "stream",
     "text": [
      "Mapping of Face and its ID {0: 'E21CSEU0106', 1: 'E21CSEU0130', 2: 'E21CSEU0143'}\n",
      "\n",
      " The Number of output neurons:  3\n"
     ]
    }
   ],
   "source": [
    "# class_indices have the numeric tag for each face\n",
    "TrainClasses=training_set.class_indices\n",
    " \n",
    "# Storing the face and the numeric tag for future reference\n",
    "ResultMap={}\n",
    "for faceValue,faceName in zip(TrainClasses.values(),TrainClasses.keys()):\n",
    "    ResultMap[faceValue]=faceName\n",
    " \n",
    "# Saving the face map for future reference\n",
    "import pickle\n",
    "with open(\"ResultsMap.pkl\", 'wb') as fileWriteStream:\n",
    "    pickle.dump(ResultMap, fileWriteStream)\n",
    " \n",
    "# The model will give answer as a numeric tag\n",
    "# This mapping will help to get the corresponding face name for it\n",
    "print(\"Mapping of Face and its ID\",ResultMap)\n",
    " \n",
    "# The number of neurons for the output layer is equal to the number of faces\n",
    "OutputNeurons=len(ResultMap)\n",
    "print('\\n The Number of output neurons: ', OutputNeurons)"
   ]
  },
  {
   "cell_type": "code",
   "execution_count": 76,
   "metadata": {},
   "outputs": [
    {
     "name": "stdout",
     "output_type": "stream",
     "text": [
      "Found 900 images belonging to 3 classes.\n",
      "Found 900 images belonging to 3 classes.\n"
     ]
    },
    {
     "name": "stderr",
     "output_type": "stream",
     "text": [
      "C:\\Users\\Lenovo\\AppData\\Local\\Temp\\ipykernel_37912\\2205836426.py:45: UserWarning: `Model.fit_generator` is deprecated and will be removed in a future version. Please use `Model.fit`, which supports generators.\n",
      "  classifier.fit_generator(train_set,\n"
     ]
    },
    {
     "name": "stdout",
     "output_type": "stream",
     "text": [
      "Epoch 1/10\n",
      "29/29 [==============================] - 9s 289ms/step - loss: 0.9419 - accuracy: 0.6033 - val_loss: 0.4370 - val_accuracy: 0.9444\n",
      "Epoch 2/10\n",
      "29/29 [==============================] - 4s 130ms/step - loss: 0.1992 - accuracy: 0.9356 - val_loss: 0.0206 - val_accuracy: 0.9978\n",
      "Epoch 3/10\n",
      "29/29 [==============================] - 4s 132ms/step - loss: 0.0545 - accuracy: 0.9833 - val_loss: 0.0072 - val_accuracy: 1.0000\n",
      "Epoch 4/10\n",
      "29/29 [==============================] - 4s 130ms/step - loss: 0.0125 - accuracy: 0.9978 - val_loss: 0.0020 - val_accuracy: 1.0000\n",
      "Epoch 5/10\n",
      "29/29 [==============================] - 4s 131ms/step - loss: 0.0096 - accuracy: 0.9978 - val_loss: 0.0096 - val_accuracy: 1.0000\n",
      "Epoch 6/10\n",
      "29/29 [==============================] - 4s 141ms/step - loss: 0.0173 - accuracy: 0.9956 - val_loss: 0.0030 - val_accuracy: 0.9978\n",
      "Epoch 7/10\n",
      "29/29 [==============================] - 4s 137ms/step - loss: 0.0130 - accuracy: 0.9944 - val_loss: 0.0015 - val_accuracy: 1.0000\n",
      "Epoch 8/10\n",
      "29/29 [==============================] - 4s 136ms/step - loss: 0.0024 - accuracy: 1.0000 - val_loss: 3.0171e-04 - val_accuracy: 1.0000\n",
      "Epoch 9/10\n",
      "29/29 [==============================] - 4s 128ms/step - loss: 0.0013 - accuracy: 1.0000 - val_loss: 3.6865e-04 - val_accuracy: 1.0000\n",
      "Epoch 10/10\n",
      "29/29 [==============================] - 4s 142ms/step - loss: 0.0057 - accuracy: 0.9978 - val_loss: 7.7660e-04 - val_accuracy: 1.0000\n"
     ]
    },
    {
     "data": {
      "text/plain": [
       "<keras.src.callbacks.History at 0x1de9210bb50>"
      ]
     },
     "execution_count": 76,
     "metadata": {},
     "output_type": "execute_result"
    }
   ],
   "source": [
    "\n",
    "\n",
    "# Initializing the Convolutional Neural Network\n",
    "classifier = Sequential()\n",
    "\n",
    "# Adding the first layer of CNN\n",
    "classifier.add(Convolution2D(32, kernel_size=(5, 5), strides=(1, 1), input_shape=(64, 64, 1), activation='relu'))\n",
    "\n",
    "# MAX Pooling\n",
    "classifier.add(MaxPool2D(pool_size=(2, 2)))\n",
    "\n",
    "# Additional Layer of Convolution for better accuracy\n",
    "classifier.add(Convolution2D(64, kernel_size=(5, 5), strides=(1, 1), activation='relu'))\n",
    "classifier.add(MaxPool2D(pool_size=(2, 2)))\n",
    "\n",
    "# Flattening\n",
    "classifier.add(Flatten())\n",
    "\n",
    "# Fully Connected Neural Network\n",
    "classifier.add(Dense(64, activation='relu'))\n",
    "classifier.add(Dense(OutputNeurons, activation='softmax'))\n",
    "\n",
    "# Compiling the CNN\n",
    "classifier.compile(loss='categorical_crossentropy', optimizer='adam', metrics=[\"accuracy\"])\n",
    "\n",
    "# Data Augmentation\n",
    "train_datagen = ImageDataGenerator(rescale=1./255,\n",
    "                                   shear_range=0.2,\n",
    "                                   zoom_range=0.2,\n",
    "                                   horizontal_flip=True)\n",
    "\n",
    "test_datagen = ImageDataGenerator(rescale=1./255)\n",
    "\n",
    "# Provide the path to your dataset (make sure it has subfolders for each class)\n",
    "train_set = train_datagen.flow_from_directory('Students',\n",
    "                                              target_size=(64, 64),\n",
    "                                              color_mode='grayscale',\n",
    "                                              batch_size=32,\n",
    "                                              class_mode='categorical')\n",
    "\n",
    "test_set = test_datagen.flow_from_directory('Students',\n",
    "                                            target_size=(64, 64),\n",
    "                                            color_mode='grayscale',\n",
    "                                            batch_size=32,\n",
    "                                            class_mode='categorical')\n",
    "\n",
    "classifier.fit_generator(train_set,\n",
    "                         steps_per_epoch=len(train_set),\n",
    "                         epochs=10,\n",
    "                         validation_data=test_set,\n",
    "                         validation_steps=len(test_set))"
   ]
  },
  {
   "cell_type": "code",
   "execution_count": 78,
   "metadata": {},
   "outputs": [
    {
     "name": "stdout",
     "output_type": "stream",
     "text": [
      "E21CSEU0106\n"
     ]
    }
   ],
   "source": [
    "ImagePath = '../Attendify/Students/E21CSEU0130/E21CSEU0130.108.jpg'\n",
    "test_image = image.load_img(ImagePath, target_size=(64, 64), color_mode='grayscale')\n",
    "test_image = image.img_to_array(test_image)\n",
    "test_image = np.expand_dims(test_image, axis=0)\n",
    "\n",
    "# Make a prediction\n",
    "result = classifier.predict(test_image, verbose=0)\n",
    "# Assuming you have a ResultMap defined somewhere, replace it with your own logic\n",
    "\n",
    "print(ResultMap[np.argmax(result)])\n"
   ]
  },
  {
   "cell_type": "markdown",
   "metadata": {},
   "source": [
    "## Saving the model: "
   ]
  },
  {
   "cell_type": "markdown",
   "metadata": {},
   "source": [
    "also creating it and training it from scratch"
   ]
  },
  {
   "cell_type": "code",
   "execution_count": 17,
   "metadata": {},
   "outputs": [
    {
     "name": "stdout",
     "output_type": "stream",
     "text": [
      "Found 898 images belonging to 3 classes.\n"
     ]
    },
    {
     "name": "stdout",
     "output_type": "stream",
     "text": [
      "Found 898 images belonging to 3 classes.\n",
      "Epoch 1/10\n"
     ]
    },
    {
     "name": "stderr",
     "output_type": "stream",
     "text": [
      "C:\\Users\\Lenovo\\AppData\\Local\\Temp\\ipykernel_19200\\2780421680.py:68: UserWarning: `Model.fit_generator` is deprecated and will be removed in a future version. Please use `Model.fit`, which supports generators.\n",
      "  classifier.fit_generator(train_set,\n"
     ]
    },
    {
     "name": "stdout",
     "output_type": "stream",
     "text": [
      "29/29 [==============================] - 6s 165ms/step - loss: 0.8655 - accuracy: 0.5568 - val_loss: 0.4509 - val_accuracy: 0.7695\n",
      "Epoch 2/10\n",
      "29/29 [==============================] - 4s 134ms/step - loss: 0.2433 - accuracy: 0.9220 - val_loss: 0.0495 - val_accuracy: 0.9989\n",
      "Epoch 3/10\n",
      "29/29 [==============================] - 4s 131ms/step - loss: 0.0909 - accuracy: 0.9677 - val_loss: 0.0227 - val_accuracy: 1.0000\n",
      "Epoch 4/10\n",
      "29/29 [==============================] - 4s 139ms/step - loss: 0.0455 - accuracy: 0.9844 - val_loss: 0.0101 - val_accuracy: 1.0000\n",
      "Epoch 5/10\n",
      "29/29 [==============================] - 4s 136ms/step - loss: 0.0251 - accuracy: 0.9922 - val_loss: 0.0041 - val_accuracy: 1.0000\n",
      "Epoch 6/10\n",
      "29/29 [==============================] - 4s 131ms/step - loss: 0.0245 - accuracy: 0.9955 - val_loss: 0.0025 - val_accuracy: 1.0000\n",
      "Epoch 7/10\n",
      "29/29 [==============================] - 4s 137ms/step - loss: 0.0117 - accuracy: 0.9978 - val_loss: 0.0032 - val_accuracy: 1.0000\n",
      "Epoch 8/10\n",
      "29/29 [==============================] - 4s 147ms/step - loss: 0.0067 - accuracy: 0.9989 - val_loss: 7.0762e-04 - val_accuracy: 1.0000\n",
      "Epoch 9/10\n",
      "29/29 [==============================] - 4s 139ms/step - loss: 0.0046 - accuracy: 0.9989 - val_loss: 4.4123e-04 - val_accuracy: 1.0000\n",
      "Epoch 10/10\n",
      "29/29 [==============================] - 4s 129ms/step - loss: 0.0049 - accuracy: 0.9989 - val_loss: 0.0022 - val_accuracy: 1.0000\n"
     ]
    }
   ],
   "source": [
    "from keras.models import Sequential, load_model\n",
    "from keras.layers import Convolution2D, MaxPool2D, Flatten, Dense\n",
    "from keras.preprocessing.image import ImageDataGenerator\n",
    "import pickle\n",
    "\n",
    "\n",
    "# Data Augmentation\n",
    "train_datagen = ImageDataGenerator(rescale=1./255,\n",
    "                                   shear_range=0.2,\n",
    "                                   zoom_range=0.2,\n",
    "                                   horizontal_flip=True)\n",
    "\n",
    "test_datagen = ImageDataGenerator(rescale=1./255)\n",
    "\n",
    "# Provide the path to your dataset (make sure it has subfolders for each class)\n",
    "train_set = train_datagen.flow_from_directory('Students',\n",
    "                                              target_size=(64, 64),\n",
    "                                              color_mode='grayscale',\n",
    "                                              batch_size=32,\n",
    "                                              class_mode='categorical')\n",
    "\n",
    "test_set = test_datagen.flow_from_directory('Students',\n",
    "                                            target_size=(64, 64),\n",
    "                                            color_mode='grayscale',\n",
    "                                            batch_size=32,\n",
    "                                            class_mode='categorical')\n",
    "\n",
    "TrainClasses=train_set.class_indices\n",
    "\n",
    "ResultMap={}\n",
    "for faceValue,faceName in zip(TrainClasses.values(),TrainClasses.keys()):\n",
    "    ResultMap[faceValue]=faceName\n",
    " \n",
    "# Saving the face map for future reference\n",
    "with open(\"StudentsMap.pkl\", 'wb') as fileWriteStream:\n",
    "    pickle.dump(ResultMap, fileWriteStream)\n",
    " \n",
    "# The model will give answer as a numeric tag\n",
    "# This mapping will help to get the corresponding face name for it\n",
    " \n",
    "# The number of neurons for the output layer is equal to the number of faces\n",
    "OutputNeurons=len(ResultMap)\n",
    "\n",
    "# Initializing the Convolutional Neural Network\n",
    "classifier = Sequential()\n",
    "\n",
    "# Adding the first layer of CNN\n",
    "classifier.add(Convolution2D(32, kernel_size=(5, 5), strides=(1, 1), input_shape=(64, 64, 1), activation='relu'))\n",
    "\n",
    "# MAX Pooling\n",
    "classifier.add(MaxPool2D(pool_size=(2, 2)))\n",
    "\n",
    "# Additional Layer of Convolution for better accuracy\n",
    "classifier.add(Convolution2D(64, kernel_size=(5, 5), strides=(1, 1), activation='relu'))\n",
    "classifier.add(MaxPool2D(pool_size=(2, 2)))\n",
    "\n",
    "# Flattening\n",
    "classifier.add(Flatten())\n",
    "\n",
    "# Fully Connected Neural Network\n",
    "classifier.add(Dense(64, activation='relu'))\n",
    "classifier.add(Dense(OutputNeurons, activation='softmax'))\n",
    "\n",
    "# Compiling the CNN\n",
    "classifier.compile(loss='categorical_crossentropy', optimizer='adam', metrics=[\"accuracy\"])\n",
    "\n",
    "\n",
    "classifier.fit_generator(train_set,\n",
    "                         steps_per_epoch=len(train_set),\n",
    "                         epochs=10,\n",
    "                         validation_data=test_set,\n",
    "                         validation_steps=len(test_set))\n",
    "\n",
    "# Save the trained model\n",
    "classifier.save('RecognitionModel.h5')"
   ]
  },
  {
   "cell_type": "code",
   "execution_count": 25,
   "metadata": {},
   "outputs": [],
   "source": [
    "from keras.models import load_model"
   ]
  },
  {
   "cell_type": "code",
   "execution_count": 63,
   "metadata": {},
   "outputs": [],
   "source": [
    "saved_model_path = '../RecognitionModel.h5'\n",
    "loaded_model = load_model(saved_model_path)"
   ]
  },
  {
   "cell_type": "code",
   "execution_count": null,
   "metadata": {},
   "outputs": [],
   "source": []
  },
  {
   "cell_type": "markdown",
   "metadata": {},
   "source": [
    "## Prediction"
   ]
  },
  {
   "cell_type": "code",
   "execution_count": 64,
   "metadata": {},
   "outputs": [
    {
     "name": "stdout",
     "output_type": "stream",
     "text": [
      "E21CSEU0143\n"
     ]
    }
   ],
   "source": [
    "ImagePath = 'WIN_20231121_03_23_13_Pro.jpg'\n",
    "test_image = image.load_img(ImagePath, target_size=(64, 64), color_mode='grayscale')\n",
    "test_image = image.img_to_array(test_image)\n",
    "test_image = np.expand_dims(test_image, axis=0)\n",
    "\n",
    "result = loaded_model.predict(test_image, verbose=0)\n",
    "with open('../StudentsMap.pkl', 'rb') as file:\n",
    "    # Load the object from the file\n",
    "    loaded_object = pickle.load(file)\n",
    "print(loaded_object[np.argmax(result)])"
   ]
  },
  {
   "cell_type": "code",
   "execution_count": 49,
   "metadata": {},
   "outputs": [
    {
     "name": "stdout",
     "output_type": "stream",
     "text": [
      "E21CSEU0106\n"
     ]
    }
   ],
   "source": [
    "resized_image = cv2.resize(all_faces_list[0][0], (64, 64))\n",
    "gray_image = resized_image\n",
    "\n",
    "# Expand dimensions to make it compatible with the model input shape\n",
    "test_image = np.expand_dims(gray_image, axis=0)\n",
    "test_image = np.expand_dims(test_image, axis=-1)  # Add channel dimension for grayscale\n",
    "\n",
    "# Now, you can use the loaded model for prediction\n",
    "result = loaded_model.predict(test_image, verbose=0)\n",
    "\n",
    "with open('StudentsMap.pkl', 'rb') as file:\n",
    "    # Load the object from the file\n",
    "    loaded_object = pickle.load(file)\n",
    "\n",
    "# Assuming loaded_object is a list or array mapping class indices to labels\n",
    "predicted_label = loaded_object[np.argmax(result)]\n",
    "print(predicted_label)"
   ]
  },
  {
   "cell_type": "code",
   "execution_count": 46,
   "metadata": {},
   "outputs": [],
   "source": [
    "resized_image = cv2.resize(all_faces_list[0][0], (64, 64))\n",
    "gray_image = (resized_image)"
   ]
  },
  {
   "cell_type": "code",
   "execution_count": 47,
   "metadata": {},
   "outputs": [
    {
     "data": {
      "text/plain": [
       "array([[180, 180, 180, ...,  27,  26,  24],\n",
       "       [180, 180, 180, ...,  27,  26,  24],\n",
       "       [180, 180, 180, ...,  27,  26,  24],\n",
       "       ...,\n",
       "       [ 23,  24,  25, ...,  20,  20,  22],\n",
       "       [ 23,  25,  25, ...,  20,  20,  22],\n",
       "       [ 24,  24,  24, ...,  20,  20,  22]], dtype=uint8)"
      ]
     },
     "execution_count": 47,
     "metadata": {},
     "output_type": "execute_result"
    }
   ],
   "source": [
    "gray_image"
   ]
  },
  {
   "cell_type": "markdown",
   "metadata": {},
   "source": [
    "## Testing "
   ]
  },
  {
   "cell_type": "code",
   "execution_count": 4,
   "metadata": {},
   "outputs": [
    {
     "data": {
      "text/plain": [
       "{0: 'E21CSEU0106',\n",
       " 1: 'E21CSEU0130',\n",
       " 2: 'E21CSEU0143',\n",
       " 3: 'E21CSEU0149',\n",
       " 4: 'E21CSEU0152'}"
      ]
     },
     "execution_count": 4,
     "metadata": {},
     "output_type": "execute_result"
    }
   ],
   "source": [
    "import pickle\n",
    "with open('../StudentsMap.pkl', 'rb') as file:\n",
    "    # Load the object from the file\n",
    "    loaded_object = pickle.load(file)\n",
    "loaded_object"
   ]
  },
  {
   "cell_type": "code",
   "execution_count": 5,
   "metadata": {},
   "outputs": [],
   "source": [
    "saved_model_path = '../RecognitionModel.h5'\n",
    "loaded_model = load_model(saved_model_path)"
   ]
  },
  {
   "cell_type": "code",
   "execution_count": 6,
   "metadata": {},
   "outputs": [
    {
     "name": "stdout",
     "output_type": "stream",
     "text": [
      "1/1 [==============================] - 0s 144ms/step\n",
      "1/1 [==============================] - 0s 28ms/step\n",
      "1/1 [==============================] - 0s 31ms/step\n",
      "1/1 [==============================] - 0s 28ms/step\n",
      "1/1 [==============================] - 0s 32ms/step\n",
      "1/1 [==============================] - 0s 27ms/step\n",
      "1/1 [==============================] - 0s 28ms/step\n",
      "1/1 [==============================] - 0s 30ms/step\n",
      "1/1 [==============================] - 0s 31ms/step\n",
      "1/1 [==============================] - 0s 28ms/step\n",
      "1/1 [==============================] - 0s 29ms/step\n",
      "1/1 [==============================] - 0s 31ms/step\n",
      "1/1 [==============================] - 0s 29ms/step\n",
      "1/1 [==============================] - 0s 30ms/step\n",
      "1/1 [==============================] - 0s 26ms/step\n",
      "1/1 [==============================] - 0s 27ms/step\n",
      "1/1 [==============================] - 0s 46ms/step\n",
      "1/1 [==============================] - 0s 30ms/step\n",
      "1/1 [==============================] - 0s 30ms/step\n",
      "1/1 [==============================] - 0s 27ms/step\n",
      "1/1 [==============================] - 0s 29ms/step\n",
      "1/1 [==============================] - 0s 25ms/step\n",
      "1/1 [==============================] - 0s 30ms/step\n",
      "1/1 [==============================] - 0s 27ms/step\n",
      "1/1 [==============================] - 0s 26ms/step\n",
      "1/1 [==============================] - 0s 27ms/step\n",
      "1/1 [==============================] - 0s 25ms/step\n",
      "1/1 [==============================] - 0s 28ms/step\n",
      "1/1 [==============================] - 0s 25ms/step\n",
      "1/1 [==============================] - 0s 27ms/step\n",
      "1/1 [==============================] - 0s 27ms/step\n",
      "1/1 [==============================] - 0s 30ms/step\n",
      "1/1 [==============================] - 0s 26ms/step\n",
      "1/1 [==============================] - 0s 24ms/step\n",
      "1/1 [==============================] - 0s 25ms/step\n",
      "1/1 [==============================] - 0s 26ms/step\n",
      "1/1 [==============================] - 0s 26ms/step\n",
      "1/1 [==============================] - 0s 26ms/step\n",
      "1/1 [==============================] - 0s 24ms/step\n",
      "1/1 [==============================] - 0s 27ms/step\n",
      "1/1 [==============================] - 0s 24ms/step\n",
      "1/1 [==============================] - 0s 26ms/step\n",
      "1/1 [==============================] - 0s 26ms/step\n",
      "1/1 [==============================] - 0s 28ms/step\n",
      "1/1 [==============================] - 0s 27ms/step\n",
      "1/1 [==============================] - 0s 29ms/step\n",
      "1/1 [==============================] - 0s 26ms/step\n",
      "1/1 [==============================] - 0s 27ms/step\n",
      "1/1 [==============================] - 0s 28ms/step\n",
      "1/1 [==============================] - 0s 25ms/step\n",
      "1/1 [==============================] - 0s 28ms/step\n",
      "1/1 [==============================] - 0s 35ms/step\n",
      "1/1 [==============================] - 0s 26ms/step\n",
      "1/1 [==============================] - 0s 25ms/step\n",
      "1/1 [==============================] - 0s 24ms/step\n",
      "1/1 [==============================] - 0s 26ms/step\n",
      "1/1 [==============================] - 0s 24ms/step\n",
      "1/1 [==============================] - 0s 26ms/step\n",
      "1/1 [==============================] - 0s 26ms/step\n",
      "1/1 [==============================] - 0s 25ms/step\n",
      "1/1 [==============================] - 0s 25ms/step\n",
      "1/1 [==============================] - 0s 26ms/step\n",
      "1/1 [==============================] - 0s 28ms/step\n",
      "1/1 [==============================] - 0s 29ms/step\n",
      "1/1 [==============================] - 0s 28ms/step\n",
      "1/1 [==============================] - 0s 26ms/step\n",
      "1/1 [==============================] - 0s 27ms/step\n",
      "1/1 [==============================] - 0s 25ms/step\n",
      "1/1 [==============================] - 0s 25ms/step\n",
      "1/1 [==============================] - 0s 26ms/step\n",
      "1/1 [==============================] - 0s 30ms/step\n",
      "1/1 [==============================] - 0s 26ms/step\n",
      "1/1 [==============================] - 0s 31ms/step\n",
      "1/1 [==============================] - 0s 27ms/step\n",
      "1/1 [==============================] - 0s 25ms/step\n",
      "1/1 [==============================] - 0s 29ms/step\n",
      "1/1 [==============================] - 0s 24ms/step\n",
      "1/1 [==============================] - 0s 25ms/step\n",
      "1/1 [==============================] - 0s 25ms/step\n",
      "1/1 [==============================] - 0s 26ms/step\n",
      "1/1 [==============================] - 0s 24ms/step\n",
      "1/1 [==============================] - 0s 27ms/step\n",
      "1/1 [==============================] - 0s 29ms/step\n",
      "1/1 [==============================] - 0s 24ms/step\n",
      "1/1 [==============================] - 0s 25ms/step\n",
      "1/1 [==============================] - 0s 24ms/step\n",
      "1/1 [==============================] - 0s 26ms/step\n",
      "1/1 [==============================] - 0s 29ms/step\n",
      "1/1 [==============================] - 0s 27ms/step\n",
      "1/1 [==============================] - 0s 26ms/step\n",
      "1/1 [==============================] - 0s 26ms/step\n",
      "1/1 [==============================] - 0s 29ms/step\n",
      "1/1 [==============================] - 0s 28ms/step\n",
      "1/1 [==============================] - 0s 33ms/step\n",
      "1/1 [==============================] - 0s 27ms/step\n",
      "1/1 [==============================] - 0s 26ms/step\n",
      "1/1 [==============================] - 0s 27ms/step\n",
      "1/1 [==============================] - 0s 24ms/step\n",
      "1/1 [==============================] - 0s 31ms/step\n",
      "1/1 [==============================] - 0s 30ms/step\n",
      "1/1 [==============================] - 0s 33ms/step\n",
      "1/1 [==============================] - 0s 27ms/step\n",
      "1/1 [==============================] - 0s 26ms/step\n",
      "1/1 [==============================] - 0s 26ms/step\n",
      "1/1 [==============================] - 0s 29ms/step\n",
      "1/1 [==============================] - 0s 31ms/step\n",
      "1/1 [==============================] - 0s 27ms/step\n",
      "1/1 [==============================] - 0s 30ms/step\n",
      "1/1 [==============================] - 0s 30ms/step\n",
      "1/1 [==============================] - 0s 29ms/step\n",
      "1/1 [==============================] - 0s 26ms/step\n",
      "1/1 [==============================] - 0s 27ms/step\n",
      "1/1 [==============================] - 0s 25ms/step\n",
      "1/1 [==============================] - 0s 30ms/step\n",
      "1/1 [==============================] - 0s 28ms/step\n",
      "1/1 [==============================] - 0s 26ms/step\n",
      "1/1 [==============================] - 0s 26ms/step\n",
      "1/1 [==============================] - 0s 27ms/step\n",
      "1/1 [==============================] - 0s 31ms/step\n",
      "1/1 [==============================] - 0s 26ms/step\n",
      "1/1 [==============================] - 0s 27ms/step\n",
      "1/1 [==============================] - 0s 29ms/step\n",
      "1/1 [==============================] - 0s 32ms/step\n",
      "1/1 [==============================] - 0s 26ms/step\n",
      "1/1 [==============================] - 0s 27ms/step\n",
      "1/1 [==============================] - 0s 26ms/step\n",
      "1/1 [==============================] - 0s 27ms/step\n",
      "1/1 [==============================] - 0s 28ms/step\n",
      "1/1 [==============================] - 0s 26ms/step\n",
      "1/1 [==============================] - 0s 27ms/step\n",
      "1/1 [==============================] - 0s 26ms/step\n",
      "1/1 [==============================] - 0s 26ms/step\n",
      "1/1 [==============================] - 0s 29ms/step\n",
      "1/1 [==============================] - 0s 25ms/step\n",
      "1/1 [==============================] - 0s 25ms/step\n",
      "1/1 [==============================] - 0s 27ms/step\n",
      "1/1 [==============================] - 0s 31ms/step\n",
      "1/1 [==============================] - 0s 28ms/step\n",
      "1/1 [==============================] - 0s 26ms/step\n",
      "1/1 [==============================] - 0s 32ms/step\n",
      "1/1 [==============================] - 0s 32ms/step\n",
      "1/1 [==============================] - 0s 31ms/step\n",
      "1/1 [==============================] - 0s 32ms/step\n",
      "1/1 [==============================] - 0s 31ms/step\n",
      "1/1 [==============================] - 0s 28ms/step\n",
      "1/1 [==============================] - 0s 26ms/step\n",
      "1/1 [==============================] - 0s 26ms/step\n",
      "1/1 [==============================] - 0s 27ms/step\n",
      "1/1 [==============================] - 0s 32ms/step\n",
      "1/1 [==============================] - 0s 27ms/step\n",
      "1/1 [==============================] - 0s 27ms/step\n",
      "1/1 [==============================] - 0s 26ms/step\n",
      "1/1 [==============================] - 0s 26ms/step\n",
      "1/1 [==============================] - 0s 30ms/step\n",
      "1/1 [==============================] - 0s 29ms/step\n",
      "1/1 [==============================] - 0s 26ms/step\n",
      "1/1 [==============================] - 0s 30ms/step\n",
      "1/1 [==============================] - 0s 28ms/step\n",
      "1/1 [==============================] - 0s 26ms/step\n",
      "1/1 [==============================] - 0s 24ms/step\n",
      "1/1 [==============================] - 0s 24ms/step\n",
      "1/1 [==============================] - 0s 25ms/step\n",
      "1/1 [==============================] - 0s 28ms/step\n",
      "1/1 [==============================] - 0s 32ms/step\n",
      "1/1 [==============================] - 0s 30ms/step\n",
      "1/1 [==============================] - 0s 28ms/step\n",
      "1/1 [==============================] - 0s 28ms/step\n",
      "1/1 [==============================] - 0s 26ms/step\n",
      "1/1 [==============================] - 0s 29ms/step\n",
      "1/1 [==============================] - 0s 27ms/step\n",
      "1/1 [==============================] - 0s 32ms/step\n",
      "1/1 [==============================] - 0s 29ms/step\n",
      "1/1 [==============================] - 0s 25ms/step\n",
      "1/1 [==============================] - 0s 27ms/step\n",
      "1/1 [==============================] - 0s 27ms/step\n",
      "1/1 [==============================] - 0s 27ms/step\n",
      "1/1 [==============================] - 0s 27ms/step\n",
      "1/1 [==============================] - 0s 25ms/step\n",
      "1/1 [==============================] - 0s 26ms/step\n",
      "1/1 [==============================] - 0s 26ms/step\n",
      "1/1 [==============================] - 0s 29ms/step\n",
      "1/1 [==============================] - 0s 27ms/step\n",
      "1/1 [==============================] - 0s 28ms/step\n"
     ]
    }
   ],
   "source": [
    "camera = cv2.VideoCapture(0)  \n",
    "while True:\n",
    " \n",
    "    ret, frame = camera.read()\n",
    "\n",
    "    width, height = 64, 64  # Set your desired width and height\n",
    "    resized_frame = cv2.resize(frame, (width, height))\n",
    "\n",
    "    gray_frame = cv2.cvtColor(resized_frame, cv2.COLOR_BGR2GRAY)\n",
    "\n",
    "    # Expand dimensions and add a channel dimension\n",
    "    test_image = np.expand_dims(gray_frame, axis=0)\n",
    "    test_image = np.expand_dims(test_image, axis=3)\n",
    "    result = loaded_model.predict(test_image)\n",
    "    label = loaded_object[np.argmax(result)]\n",
    "\n",
    "    # Display the result on the frame\n",
    "    cv2.putText(frame, label, (10, 30), cv2.FONT_HERSHEY_SIMPLEX, 1, (0, 255, 0), 2)\n",
    "\n",
    "    # Display the frame\n",
    "    cv2.imshow('Live Camera Feed', frame)\n",
    "\n",
    "    # Break the loop if 'q' key is pressed\n",
    "    if cv2.waitKey(1) & 0xFF == ord('q'):\n",
    "        break\n",
    "\n",
    "camera.release()\n",
    "\n",
    "cv2.destroyAllWindows()"
   ]
  },
  {
   "cell_type": "markdown",
   "metadata": {},
   "source": []
  },
  {
   "cell_type": "markdown",
   "metadata": {},
   "source": [
    "## For retraining the loaded model"
   ]
  },
  {
   "cell_type": "markdown",
   "metadata": {},
   "source": [
    "cannot be used, as we cannot update here the number of neurons"
   ]
  },
  {
   "cell_type": "code",
   "execution_count": 84,
   "metadata": {},
   "outputs": [
    {
     "name": "stdout",
     "output_type": "stream",
     "text": [
      "Found 900 images belonging to 3 classes.\n",
      "Epoch 1/10\n"
     ]
    },
    {
     "name": "stderr",
     "output_type": "stream",
     "text": [
      "C:\\Users\\Lenovo\\AppData\\Local\\Temp\\ipykernel_37912\\1217135241.py:18: UserWarning: `Model.fit_generator` is deprecated and will be removed in a future version. Please use `Model.fit`, which supports generators.\n",
      "  loaded_model.fit_generator(new_train_set,\n"
     ]
    },
    {
     "name": "stdout",
     "output_type": "stream",
     "text": [
      "29/29 [==============================] - 5s 157ms/step - loss: 0.1547 - accuracy: 0.9433\n",
      "Epoch 2/10\n",
      "29/29 [==============================] - 3s 103ms/step - loss: 0.0074 - accuracy: 1.0000\n",
      "Epoch 3/10\n",
      "29/29 [==============================] - 3s 105ms/step - loss: 0.0017 - accuracy: 1.0000\n",
      "Epoch 4/10\n",
      "29/29 [==============================] - 3s 104ms/step - loss: 0.0042 - accuracy: 0.9989\n",
      "Epoch 5/10\n",
      "29/29 [==============================] - 3s 110ms/step - loss: 0.0019 - accuracy: 1.0000\n",
      "Epoch 6/10\n",
      "29/29 [==============================] - 3s 111ms/step - loss: 8.6377e-04 - accuracy: 1.0000\n",
      "Epoch 7/10\n",
      "29/29 [==============================] - 3s 104ms/step - loss: 5.6720e-04 - accuracy: 1.0000\n",
      "Epoch 8/10\n",
      "29/29 [==============================] - 3s 103ms/step - loss: 4.3957e-04 - accuracy: 1.0000\n",
      "Epoch 9/10\n",
      "29/29 [==============================] - 3s 102ms/step - loss: 4.4790e-04 - accuracy: 1.0000\n",
      "Epoch 10/10\n",
      "29/29 [==============================] - 3s 104ms/step - loss: 9.8599e-04 - accuracy: 1.0000\n"
     ]
    },
    {
     "name": "stderr",
     "output_type": "stream",
     "text": [
      "c:\\Users\\Lenovo\\OneDrive\\Desktop\\Attendify\\attendifyenv\\lib\\site-packages\\keras\\src\\engine\\training.py:3079: UserWarning: You are saving your model as an HDF5 file via `model.save()`. This file format is considered legacy. We recommend using instead the native Keras format, e.g. `model.save('my_model.keras')`.\n",
      "  saving_api.save_model(\n"
     ]
    }
   ],
   "source": [
    "# Compile the model with the desired optimizer, loss, and metrics\n",
    "loaded_model.compile(loss='categorical_crossentropy', optimizer='adam', metrics=[\"accuracy\"])\n",
    "\n",
    "# Data Augmentation for training the model\n",
    "train_datagen = ImageDataGenerator(rescale=1./255,\n",
    "                                   shear_range=0.2,\n",
    "                                   zoom_range=0.2,\n",
    "                                   horizontal_flip=True)\n",
    "\n",
    "# Provide the path to your new training dataset\n",
    "new_train_set = train_datagen.flow_from_directory('Students',\n",
    "                                                 target_size=(64, 64),\n",
    "                                                 color_mode='grayscale',\n",
    "                                                 batch_size=32,\n",
    "                                                 class_mode='categorical')\n",
    "\n",
    "TrainClasses=new_train_set.class_indices\n",
    " \n",
    "ResultMap={}\n",
    "for faceValue,faceName in zip(TrainClasses.values(),TrainClasses.keys()):\n",
    "    ResultMap[faceValue]=faceName\n",
    " \n",
    "# Saving the face map for future reference\n",
    "with open(\"StudentsMap.pkl\", 'wb') as fileWriteStream:\n",
    "    pickle.dump(ResultMap, fileWriteStream)\n",
    " \n",
    "OutputNeurons=len(ResultMap)\n",
    "\n",
    "classifier.add(Dense(OutputNeurons, activation='softmax'))\n",
    "\n",
    "# Retrain the model with the new training data\n",
    "loaded_model.fit_generator(new_train_set,\n",
    "                            steps_per_epoch=len(new_train_set),\n",
    "                            epochs=10)\n",
    "\n",
    "# Save the retrained model\n",
    "loaded_model.save('RecognitionModel.h5')"
   ]
  },
  {
   "cell_type": "markdown",
   "metadata": {},
   "source": [
    "## Extract Faces from students present image"
   ]
  },
  {
   "cell_type": "code",
   "execution_count": 22,
   "metadata": {},
   "outputs": [],
   "source": [
    "import cv2\n",
    "import os\n",
    "\n",
    "# Load the face classifier\n",
    "face_classifier = cv2.CascadeClassifier(cv2.data.haarcascades + 'haarcascade_frontalface_default.xml')\n",
    "\n",
    "def face_cropped(img):\n",
    "\n",
    "    student_folder = os.path.join(\"StudentPresent\")\n",
    "    if not os.path.exists(student_folder):\n",
    "        os.makedirs(student_folder)\n",
    "\n",
    "    gray = cv2.cvtColor(img, cv2.COLOR_BGR2GRAY)\n",
    "    \n",
    "    # Detect faces in the image\n",
    "    faces = face_classifier.detectMultiScale(gray, 1.2, 5)\n",
    "\n",
    "    # Initialize img_id\n",
    "    img_id = 0\n",
    "\n",
    "    # Iterate through detected faces\n",
    "    for (x, y, w, h) in faces:\n",
    "        # Crop the face from the original image\n",
    "        cropped_face = img[y: y+h, x:x+w]\n",
    "\n",
    "        # Resize the face to a common size (e.g., 200x200)\n",
    "        cropped_face = cv2.resize(cropped_face, (200, 200))\n",
    "\n",
    "        # Convert the face to grayscale\n",
    "        cropped_face = cv2.cvtColor(cropped_face, cv2.COLOR_BGR2GRAY)\n",
    "\n",
    "        # Save the face to a file\n",
    "        file_path = os.path.join(student_folder, f\"Student_{img_id}.jpg\")\n",
    "        cv2.imwrite(file_path, cropped_face)\n",
    "\n",
    "        # Increment img_id for the next face\n",
    "        img_id += 1\n",
    "\n",
    "image_path = 'IMG_3877.HEIC.jpg'\n",
    "img = cv2.imread(image_path)\n",
    "face_cropped(img)\n"
   ]
  },
  {
   "cell_type": "code",
   "execution_count": 3,
   "metadata": {},
   "outputs": [],
   "source": [
    "import requests\n",
    "import cv2\n",
    "import numpy as np\n",
    "import imutils\n",
    "\n",
    "# Getting Image and store it\n",
    "def get_image(name):\n",
    "    url = \"http://10.12.60.98:8080//shot.jpg\"\n",
    "    img_resp = requests.get(url)\n",
    "    img_arr = np.array(bytearray(img_resp.content), dtype=np.uint8)\n",
    "    img = cv2.imdecode(img_arr, -1)\n",
    "    img = imutils.resize(img, width=1000, height=1800)\n",
    "\n",
    "    # Storing the image in Caputres Folder as Android_cam.jpg\n",
    "    cv2.imwrite(f\"{name}.jpg\", img)"
   ]
  },
  {
   "cell_type": "code",
   "execution_count": 5,
   "metadata": {},
   "outputs": [],
   "source": [
    "import requests\n",
    "import cv2\n",
    "import numpy as np\n",
    "import imutils\n",
    "import time\n",
    "\n",
    "def capture_images(url, interval_seconds=5, num_images=10):\n",
    "    image_list = []\n",
    "\n",
    "    for _ in range(num_images):\n",
    "        img_resp = requests.get(url)\n",
    "        img_arr = np.array(bytearray(img_resp.content), dtype=np.uint8)\n",
    "        img = cv2.imdecode(img_arr, -1)\n",
    "        img = imutils.resize(img, width=1000, height=1800)\n",
    "\n",
    "        image_list.append(img)\n",
    "        time.sleep(interval_seconds)\n",
    "\n",
    "    return image_list\n",
    "\n",
    "# Example usage\n",
    "url_to_capture = \"http://10.12.60.98:8080//shot.jpg\"\n",
    "captured_images = capture_images(url=url_to_capture, interval_seconds=2, num_images=10)\n",
    "\n",
    "# You can now use the captured_images list for further processing or display\n"
   ]
  },
  {
   "cell_type": "code",
   "execution_count": null,
   "metadata": {},
   "outputs": [],
   "source": []
  },
  {
   "cell_type": "code",
   "execution_count": 1,
   "metadata": {},
   "outputs": [],
   "source": [
    "import cv2\n",
    "\n",
    "def display_images(image_list):\n",
    "    for i, img in enumerate(image_list):\n",
    "        cv2.imshow(f'Image {i+1}', img)\n",
    "        cv2.waitKey(0)  # Wait for any key press to move to the next image\n",
    "\n",
    "    cv2.destroyAllWindows()\n",
    "\n",
    "# Example usage\n",
    "# display_images(captured_images)"
   ]
  },
  {
   "cell_type": "code",
   "execution_count": 9,
   "metadata": {},
   "outputs": [],
   "source": [
    "import cv2\n",
    "import os\n",
    "\n",
    "# Load the face classifier\n",
    "face_classifier = cv2.CascadeClassifier(cv2.data.haarcascades + 'haarcascade_frontalface_default.xml')\n",
    "\n",
    "def face_cropped(img):\n",
    "    faces_list = []\n",
    "\n",
    "    gray = cv2.cvtColor(img, cv2.COLOR_BGR2GRAY)\n",
    "    \n",
    "    # Detect faces in the image\n",
    "    faces = face_classifier.detectMultiScale(gray, 1.2, 5)\n",
    "\n",
    "    # Iterate through detected faces\n",
    "    for (x, y, w, h) in faces:\n",
    "        # Crop the face from the original image\n",
    "        cropped_face = img[y: y+h, x:x+w]\n",
    "\n",
    "        # Resize the face to a common size (e.g., 200x200)\n",
    "        cropped_face = cv2.resize(cropped_face, (200, 200))\n",
    "\n",
    "        # Convert the face to grayscale\n",
    "        cropped_face = cv2.cvtColor(cropped_face, cv2.COLOR_BGR2GRAY)\n",
    "\n",
    "        # Append the face to the list\n",
    "        faces_list.append(cropped_face)\n",
    "\n",
    "    return faces_list"
   ]
  },
  {
   "cell_type": "code",
   "execution_count": 10,
   "metadata": {},
   "outputs": [],
   "source": [
    "for image in captured_images\n",
    "faces_list = face_cropped(captured_images[0])"
   ]
  },
  {
   "cell_type": "code",
   "execution_count": 22,
   "metadata": {},
   "outputs": [],
   "source": [
    "import cv2\n",
    "\n",
    "def display_images(image_list):\n",
    "    for i, img in enumerate(image_list):\n",
    "        cv2.imshow(f'Image {i+1}', img)\n",
    "        cv2.waitKey(0)  # Wait for any key press to move to the next image\n",
    "\n",
    "    cv2.destroyAllWindows()\n",
    "\n",
    "# Example usage\n",
    "display_images(captured_images)"
   ]
  },
  {
   "cell_type": "code",
   "execution_count": 12,
   "metadata": {},
   "outputs": [],
   "source": [
    "def face_cropped_from_list(images_list):\n",
    "    all_faces_list = []\n",
    "\n",
    "    for img in images_list:\n",
    "        faces_list = []\n",
    "        gray = cv2.cvtColor(img, cv2.COLOR_BGR2GRAY)\n",
    "        \n",
    "        # Detect faces in the image\n",
    "        faces = face_classifier.detectMultiScale(gray, 1.2, 5)\n",
    "\n",
    "        # Iterate through detected faces\n",
    "        for (x, y, w, h) in faces:\n",
    "            # Crop the face from the original image\n",
    "            cropped_face = img[y: y+h, x:x+w]\n",
    "\n",
    "            # Resize the face to a common size (e.g., 200x200)\n",
    "            cropped_face = cv2.resize(cropped_face, (200, 200))\n",
    "\n",
    "            # Convert the face to grayscale\n",
    "            cropped_face = cv2.cvtColor(cropped_face, cv2.COLOR_BGR2GRAY)\n",
    "\n",
    "            # Append the face to the faces_list\n",
    "            faces_list.append(cropped_face)\n",
    "\n",
    "        # Append the faces_list to the all_faces_list\n",
    "        all_faces_list.append(faces_list)\n",
    "\n",
    "    return all_faces_list"
   ]
  },
  {
   "cell_type": "code",
   "execution_count": 13,
   "metadata": {},
   "outputs": [],
   "source": [
    "all_faces_list = face_cropped_from_list(captured_images)"
   ]
  },
  {
   "cell_type": "code",
   "execution_count": 20,
   "metadata": {},
   "outputs": [
    {
     "data": {
      "text/plain": [
       "1"
      ]
     },
     "execution_count": 20,
     "metadata": {},
     "output_type": "execute_result"
    }
   ],
   "source": [
    "len(all_faces_list[9])"
   ]
  },
  {
   "cell_type": "code",
   "execution_count": 51,
   "metadata": {},
   "outputs": [
    {
     "name": "stdout",
     "output_type": "stream",
     "text": [
      "[['E21CSEU0106', 'E21CSEU0106'], ['E21CSEU0106'], ['E21CSEU0106', 'E21CSEU0106'], ['E21CSEU0106', 'E21CSEU0106'], ['E21CSEU0106'], ['E21CSEU0106'], ['E21CSEU0106', 'E21CSEU0106'], ['E21CSEU0106'], ['E21CSEU0106'], ['E21CSEU0106']]\n"
     ]
    }
   ],
   "source": [
    "\n",
    "camera = cv2.VideoCapture(0)  \n",
    "while True:\n",
    " \n",
    "    ret, frame = camera.read()\n",
    "\n",
    "    width, height = 64, 64  # Set your desired width and height\n",
    "    resized_frame = cv2.resize(frame, (width, height))\n",
    "\n",
    "    gray_frame = cv2.cvtColor(resized_frame, cv2.COLOR_BGR2GRAY)\n",
    "\n",
    "    # Expand dimensions and add a channel dimension\n",
    "    test_image = np.expand_dims(gray_frame, axis=0)\n",
    "    test_image = np.expand_dims(test_image, axis=3)\n",
    "\n",
    "    result = classifier.predict(test_image)\n",
    "\n",
    "    label = ResultMap[np.argmax(result)]\n",
    "\n",
    "    # Display the result on the frame\n",
    "    cv2.putText(frame, label, (10, 30), cv2.FONT_HERSHEY_SIMPLEX, 1, (0, 255, 0), 2)\n",
    "\n",
    "    # Display the frame\n",
    "    cv2.imshow('Live Camera Feed', frame)\n",
    "\n",
    "    # Break the loop if 'q' key is pressed\n",
    "    if cv2.waitKey(1) & 0xFF == ord('q'):\n",
    "        break\n",
    "\n",
    "camera.release()\n",
    "\n",
    "cv2.destroyAllWindows()"
   ]
  },
  {
   "cell_type": "code",
   "execution_count": null,
   "metadata": {},
   "outputs": [],
   "source": []
  }
 ],
 "metadata": {
  "kernelspec": {
   "display_name": "attendifyenv",
   "language": "python",
   "name": "python3"
  },
  "language_info": {
   "codemirror_mode": {
    "name": "ipython",
    "version": 3
   },
   "file_extension": ".py",
   "mimetype": "text/x-python",
   "name": "python",
   "nbconvert_exporter": "python",
   "pygments_lexer": "ipython3",
   "version": "3.9.13"
  }
 },
 "nbformat": 4,
 "nbformat_minor": 2
}
